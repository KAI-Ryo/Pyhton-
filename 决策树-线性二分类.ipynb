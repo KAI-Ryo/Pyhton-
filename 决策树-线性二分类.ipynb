{
 "cells": [
  {
   "cell_type": "markdown",
   "metadata": {
    "collapsed": true
   },
   "source": [
    "![](https://raw.githubusercontent.com/Qinbf/tf-model-zoo/master/README_IMG/01.jpg)\n",
    "AI MOOC： **www.ai-xlab.com**  \n",
    "如果你也是AI爱好者，可以添加我的微信一起交流：**sdxxqbf**"
   ]
  },
  {
   "cell_type": "code",
   "execution_count": null,
   "metadata": {},
   "outputs": [],
   "source": [
    "import matplotlib.pyplot as plt\n",
    "import numpy as np\n",
    "from sklearn.metrics import classification_report\n",
    "from sklearn import tree"
   ]
  },
  {
   "cell_type": "code",
   "execution_count": 5,
   "metadata": {},
   "outputs": [
    {
     "data": {
      "image/png": "[encoded data removed]",
      "text/plain": [
       "<matplotlib.figure.Figure at 0x1ff7ba504e0>"
      ]
     },
     "metadata": {},
     "output_type": "display_data"
    }
   ],
   "source": [
    "# 载入数据\n",
    "data = np.genfromtxt(\"LR-testSet.csv\", delimiter=\",\")\n",
    "x_data = data[:,:-1]\n",
    "y_data = data[:,-1]\n",
    "\n",
    "plt.scatter(x_data[:,0],x_data[:,1],c=y_data) \n",
    "plt.show()"
   ]
  },
  {
   "cell_type": "code",
   "execution_count": 6,
   "metadata": {},
   "outputs": [
    {
     "data": {
      "text/plain": [
       "DecisionTreeClassifier(class_weight=None, criterion='gini', max_depth=None,\n",
       "            max_features=None, max_leaf_nodes=None,\n",
       "            min_impurity_split=1e-07, min_samples_leaf=1,\n",
       "            min_samples_split=2, min_weight_fraction_leaf=0.0,\n",
       "            presort=False, random_state=None, splitter='best')"
      ]
     },
     "execution_count": 6,
     "metadata": {},
     "output_type": "execute_result"
    }
   ],
   "source": [
    "# 创建决策树模型\n",
    "model = tree.DecisionTreeClassifier()\n",
    "# 输入数据建立模型\n",
    "model.fit(x_data, y_data)"
   ]
  },
  {
   "cell_type": "code",
   "execution_count": 9,
   "metadata": {},
   "outputs": [],
   "source": [
    "# 导出决策树\n",
    "import graphviz # http://www.graphviz.org/\n",
    "\n",
    "dot_data = tree.export_graphviz(model, \n",
    "                                out_file = None, \n",
    "                                feature_names = ['x','y'],\n",
    "                                class_names = ['label0','label1'],\n",
    "                                filled = True,\n",
    "                                rounded = True,\n",
    "                                special_characters = True)\n",
    "graph = graphviz.Source(dot_data)"
   ]
  },
  {
   "cell_type": "code",
   "execution_count": 10,
   "metadata": {},
   "outputs": [
    {
     "data": {
      "image/svg+xml": [
       "<?xml version=\"1.0\" encoding=\"UTF-8\" standalone=\"no\"?>\r\n",
       "<!DOCTYPE svg PUBLIC \"-//W3C//DTD SVG 1.1//EN\"\r\n",
       " \"http://www.w3.org/Graphics/SVG/1.1/DTD/svg11.dtd\">\r\n",
       "<!-- Generated by graphviz version 2.38.0 (20140413.2041)\r\n",
       " -->\r\n",
       "<!-- Title: Tree Pages: 1 -->\r\n",
       "<svg width=\"539pt\" height=\"671pt\"\r\n",
       " viewBox=\"0.00 0.00 539.00 671.00\" xmlns=\"http://www.w3.org/2000/svg\" xmlns:xlink=\"http://www.w3.org/1999/xlink\">\r\n",
       "<g id=\"graph0\" class=\"graph\" transform=\"scale(1 1) rotate(0) translate(4 667)\">\r\n",
       "<title>Tree</title>\r\n",
       "<polygon fill=\"white\" stroke=\"none\" points=\"-4,4 -4,-667 535,-667 535,4 -4,4\"/>\r\n",
       "<!-- 0 -->\r\n",
       "<g id=\"node1\" class=\"node\"><title>0</title>\r\n",
       "<path fill=\"#399de5\" fill-opacity=\"0.113725\" stroke=\"black\" d=\"M278.5,-663C278.5,-663 189.5,-663 189.5,-663 183.5,-663 177.5,-657 177.5,-651 177.5,-651 177.5,-592 177.5,-592 177.5,-586 183.5,-580 189.5,-580 189.5,-580 278.5,-580 278.5,-580 284.5,-580 290.5,-586 290.5,-592 290.5,-592 290.5,-651 290.5,-651 290.5,-657 284.5,-663 278.5,-663\"/>\r\n",
       "<text text-anchor=\"start\" x=\"200.5\" y=\"-647.8\" font-family=\"Helvetica,sans-Serif\" font-size=\"14.00\">y ≤ 8.5616</text>\r\n",
       "<text text-anchor=\"start\" x=\"192.5\" y=\"-632.8\" font-family=\"Helvetica,sans-Serif\" font-size=\"14.00\">gini = 0.4982</text>\r\n",
       "<text text-anchor=\"start\" x=\"186.5\" y=\"-617.8\" font-family=\"Helvetica,sans-Serif\" font-size=\"14.00\">samples = 100</text>\r\n",
       "<text text-anchor=\"start\" x=\"185.5\" y=\"-602.8\" font-family=\"Helvetica,sans-Serif\" font-size=\"14.00\">value = [47, 53]</text>\r\n",
       "<text text-anchor=\"start\" x=\"190\" y=\"-587.8\" font-family=\"Helvetica,sans-Serif\" font-size=\"14.00\">class = label1</text>\r\n",
       "</g>\r\n",
       "<!-- 1 -->\r\n",
       "<g id=\"node2\" class=\"node\"><title>1</title>\r\n",
       "<path fill=\"#399de5\" fill-opacity=\"0.905882\" stroke=\"black\" d=\"M213.5,-544C213.5,-544 132.5,-544 132.5,-544 126.5,-544 120.5,-538 120.5,-532 120.5,-532 120.5,-473 120.5,-473 120.5,-467 126.5,-461 132.5,-461 132.5,-461 213.5,-461 213.5,-461 219.5,-461 225.5,-467 225.5,-473 225.5,-473 225.5,-532 225.5,-532 225.5,-538 219.5,-544 213.5,-544\"/>\r\n",
       "<text text-anchor=\"start\" x=\"143.5\" y=\"-528.8\" font-family=\"Helvetica,sans-Serif\" font-size=\"14.00\">y ≤ 5.992</text>\r\n",
       "<text text-anchor=\"start\" x=\"131.5\" y=\"-513.8\" font-family=\"Helvetica,sans-Serif\" font-size=\"14.00\">gini = 0.1576</text>\r\n",
       "<text text-anchor=\"start\" x=\"129.5\" y=\"-498.8\" font-family=\"Helvetica,sans-Serif\" font-size=\"14.00\">samples = 58</text>\r\n",
       "<text text-anchor=\"start\" x=\"128.5\" y=\"-483.8\" font-family=\"Helvetica,sans-Serif\" font-size=\"14.00\">value = [5, 53]</text>\r\n",
       "<text text-anchor=\"start\" x=\"129\" y=\"-468.8\" font-family=\"Helvetica,sans-Serif\" font-size=\"14.00\">class = label1</text>\r\n",
       "</g>\r\n",
       "<!-- 0&#45;&gt;1 -->\r\n",
       "<g id=\"edge1\" class=\"edge\"><title>0&#45;&gt;1</title>\r\n",
       "<path fill=\"none\" stroke=\"black\" d=\"M212.836,-579.907C208.294,-571.195 203.446,-561.897 198.752,-552.893\"/>\r\n",
       "<polygon fill=\"black\" stroke=\"black\" points=\"201.853,-551.27 194.126,-544.021 195.646,-554.506 201.853,-551.27\"/>\r\n",
       "<text text-anchor=\"middle\" x=\"186.624\" y=\"-564.168\" font-family=\"Helvetica,sans-Serif\" font-size=\"14.00\">True</text>\r\n",
       "</g>\r\n",
       "<!-- 12 -->\r\n",
       "<g id=\"node13\" class=\"node\"><title>12</title>\r\n",
       "<path fill=\"#e58139\" stroke=\"black\" d=\"M336.5,-536.5C336.5,-536.5 255.5,-536.5 255.5,-536.5 249.5,-536.5 243.5,-530.5 243.5,-524.5 243.5,-524.5 243.5,-480.5 243.5,-480.5 243.5,-474.5 249.5,-468.5 255.5,-468.5 255.5,-468.5 336.5,-468.5 336.5,-468.5 342.5,-468.5 348.5,-474.5 348.5,-480.5 348.5,-480.5 348.5,-524.5 348.5,-524.5 348.5,-530.5 342.5,-536.5 336.5,-536.5\"/>\r\n",
       "<text text-anchor=\"start\" x=\"267\" y=\"-521.3\" font-family=\"Helvetica,sans-Serif\" font-size=\"14.00\">gini = 0.0</text>\r\n",
       "<text text-anchor=\"start\" x=\"252.5\" y=\"-506.3\" font-family=\"Helvetica,sans-Serif\" font-size=\"14.00\">samples = 42</text>\r\n",
       "<text text-anchor=\"start\" x=\"251.5\" y=\"-491.3\" font-family=\"Helvetica,sans-Serif\" font-size=\"14.00\">value = [42, 0]</text>\r\n",
       "<text text-anchor=\"start\" x=\"252\" y=\"-476.3\" font-family=\"Helvetica,sans-Serif\" font-size=\"14.00\">class = label0</text>\r\n",
       "</g>\r\n",
       "<!-- 0&#45;&gt;12 -->\r\n",
       "<g id=\"edge12\" class=\"edge\"><title>0&#45;&gt;12</title>\r\n",
       "<path fill=\"none\" stroke=\"black\" d=\"M255.511,-579.907C261.358,-568.873 267.704,-556.898 273.599,-545.773\"/>\r\n",
       "<polygon fill=\"black\" stroke=\"black\" points=\"276.835,-547.142 278.424,-536.667 270.649,-543.864 276.835,-547.142\"/>\r\n",
       "<text text-anchor=\"middle\" x=\"285.767\" y=\"-556.864\" font-family=\"Helvetica,sans-Serif\" font-size=\"14.00\">False</text>\r\n",
       "</g>\r\n",
       "<!-- 2 -->\r\n",
       "<g id=\"node3\" class=\"node\"><title>2</title>\r\n",
       "<path fill=\"#399de5\" stroke=\"black\" d=\"M152.5,-417.5C152.5,-417.5 71.5,-417.5 71.5,-417.5 65.5,-417.5 59.5,-411.5 59.5,-405.5 59.5,-405.5 59.5,-361.5 59.5,-361.5 59.5,-355.5 65.5,-349.5 71.5,-349.5 71.5,-349.5 152.5,-349.5 152.5,-349.5 158.5,-349.5 164.5,-355.5 164.5,-361.5 164.5,-361.5 164.5,-405.5 164.5,-405.5 164.5,-411.5 158.5,-417.5 152.5,-417.5\"/>\r\n",
       "<text text-anchor=\"start\" x=\"83\" y=\"-402.3\" font-family=\"Helvetica,sans-Serif\" font-size=\"14.00\">gini = 0.0</text>\r\n",
       "<text text-anchor=\"start\" x=\"68.5\" y=\"-387.3\" font-family=\"Helvetica,sans-Serif\" font-size=\"14.00\">samples = 43</text>\r\n",
       "<text text-anchor=\"start\" x=\"67.5\" y=\"-372.3\" font-family=\"Helvetica,sans-Serif\" font-size=\"14.00\">value = [0, 43]</text>\r\n",
       "<text text-anchor=\"start\" x=\"68\" y=\"-357.3\" font-family=\"Helvetica,sans-Serif\" font-size=\"14.00\">class = label1</text>\r\n",
       "</g>\r\n",
       "<!-- 1&#45;&gt;2 -->\r\n",
       "<g id=\"edge2\" class=\"edge\"><title>1&#45;&gt;2</title>\r\n",
       "<path fill=\"none\" stroke=\"black\" d=\"M151.836,-460.907C146.083,-449.873 139.84,-437.898 134.04,-426.773\"/>\r\n",
       "<polygon fill=\"black\" stroke=\"black\" points=\"137.019,-424.916 129.292,-417.667 130.812,-428.152 137.019,-424.916\"/>\r\n",
       "</g>\r\n",
       "<!-- 3 -->\r\n",
       "<g id=\"node4\" class=\"node\"><title>3</title>\r\n",
       "<path fill=\"#399de5\" fill-opacity=\"0.498039\" stroke=\"black\" d=\"M275.5,-425C275.5,-425 194.5,-425 194.5,-425 188.5,-425 182.5,-419 182.5,-413 182.5,-413 182.5,-354 182.5,-354 182.5,-348 188.5,-342 194.5,-342 194.5,-342 275.5,-342 275.5,-342 281.5,-342 287.5,-348 287.5,-354 287.5,-354 287.5,-413 287.5,-413 287.5,-419 281.5,-425 275.5,-425\"/>\r\n",
       "<text text-anchor=\"start\" x=\"203\" y=\"-409.8\" font-family=\"Helvetica,sans-Serif\" font-size=\"14.00\">x ≤ &#45;0.211</text>\r\n",
       "<text text-anchor=\"start\" x=\"193.5\" y=\"-394.8\" font-family=\"Helvetica,sans-Serif\" font-size=\"14.00\">gini = 0.4444</text>\r\n",
       "<text text-anchor=\"start\" x=\"191.5\" y=\"-379.8\" font-family=\"Helvetica,sans-Serif\" font-size=\"14.00\">samples = 15</text>\r\n",
       "<text text-anchor=\"start\" x=\"190.5\" y=\"-364.8\" font-family=\"Helvetica,sans-Serif\" font-size=\"14.00\">value = [5, 10]</text>\r\n",
       "<text text-anchor=\"start\" x=\"191\" y=\"-349.8\" font-family=\"Helvetica,sans-Serif\" font-size=\"14.00\">class = label1</text>\r\n",
       "</g>\r\n",
       "<!-- 1&#45;&gt;3 -->\r\n",
       "<g id=\"edge3\" class=\"edge\"><title>1&#45;&gt;3</title>\r\n",
       "<path fill=\"none\" stroke=\"black\" d=\"M194.511,-460.907C199.127,-452.195 204.055,-442.897 208.826,-433.893\"/>\r\n",
       "<polygon fill=\"black\" stroke=\"black\" points=\"211.938,-435.496 213.527,-425.021 205.752,-432.218 211.938,-435.496\"/>\r\n",
       "</g>\r\n",
       "<!-- 4 -->\r\n",
       "<g id=\"node5\" class=\"node\"><title>4</title>\r\n",
       "<path fill=\"#e58139\" fill-opacity=\"0.749020\" stroke=\"black\" d=\"M214,-306C214,-306 134,-306 134,-306 128,-306 122,-300 122,-294 122,-294 122,-235 122,-235 122,-229 128,-223 134,-223 134,-223 214,-223 214,-223 220,-223 226,-229 226,-235 226,-235 226,-294 226,-294 226,-300 220,-306 214,-306\"/>\r\n",
       "<text text-anchor=\"start\" x=\"138\" y=\"-290.8\" font-family=\"Helvetica,sans-Serif\" font-size=\"14.00\">x ≤ &#45;1.9851</text>\r\n",
       "<text text-anchor=\"start\" x=\"140.5\" y=\"-275.8\" font-family=\"Helvetica,sans-Serif\" font-size=\"14.00\">gini = 0.32</text>\r\n",
       "<text text-anchor=\"start\" x=\"134.5\" y=\"-260.8\" font-family=\"Helvetica,sans-Serif\" font-size=\"14.00\">samples = 5</text>\r\n",
       "<text text-anchor=\"start\" x=\"133.5\" y=\"-245.8\" font-family=\"Helvetica,sans-Serif\" font-size=\"14.00\">value = [4, 1]</text>\r\n",
       "<text text-anchor=\"start\" x=\"130\" y=\"-230.8\" font-family=\"Helvetica,sans-Serif\" font-size=\"14.00\">class = label0</text>\r\n",
       "</g>\r\n",
       "<!-- 3&#45;&gt;4 -->\r\n",
       "<g id=\"edge4\" class=\"edge\"><title>3&#45;&gt;4</title>\r\n",
       "<path fill=\"none\" stroke=\"black\" d=\"M213.836,-341.907C209.294,-333.195 204.446,-323.897 199.752,-314.893\"/>\r\n",
       "<polygon fill=\"black\" stroke=\"black\" points=\"202.853,-313.27 195.126,-306.021 196.646,-316.506 202.853,-313.27\"/>\r\n",
       "</g>\r\n",
       "<!-- 7 -->\r\n",
       "<g id=\"node8\" class=\"node\"><title>7</title>\r\n",
       "<path fill=\"#399de5\" fill-opacity=\"0.890196\" stroke=\"black\" d=\"M336,-306C336,-306 256,-306 256,-306 250,-306 244,-300 244,-294 244,-294 244,-235 244,-235 244,-229 250,-223 256,-223 256,-223 336,-223 336,-223 342,-223 348,-229 348,-235 348,-235 348,-294 348,-294 348,-300 342,-306 336,-306\"/>\r\n",
       "<text text-anchor=\"start\" x=\"262.5\" y=\"-290.8\" font-family=\"Helvetica,sans-Serif\" font-size=\"14.00\">y ≤ 7.3196</text>\r\n",
       "<text text-anchor=\"start\" x=\"262.5\" y=\"-275.8\" font-family=\"Helvetica,sans-Serif\" font-size=\"14.00\">gini = 0.18</text>\r\n",
       "<text text-anchor=\"start\" x=\"252.5\" y=\"-260.8\" font-family=\"Helvetica,sans-Serif\" font-size=\"14.00\">samples = 10</text>\r\n",
       "<text text-anchor=\"start\" x=\"255.5\" y=\"-245.8\" font-family=\"Helvetica,sans-Serif\" font-size=\"14.00\">value = [1, 9]</text>\r\n",
       "<text text-anchor=\"start\" x=\"252\" y=\"-230.8\" font-family=\"Helvetica,sans-Serif\" font-size=\"14.00\">class = label1</text>\r\n",
       "</g>\r\n",
       "<!-- 3&#45;&gt;7 -->\r\n",
       "<g id=\"edge7\" class=\"edge\"><title>3&#45;&gt;7</title>\r\n",
       "<path fill=\"none\" stroke=\"black\" d=\"M256.164,-341.907C260.706,-333.195 265.554,-323.897 270.248,-314.893\"/>\r\n",
       "<polygon fill=\"black\" stroke=\"black\" points=\"273.354,-316.506 274.874,-306.021 267.147,-313.27 273.354,-316.506\"/>\r\n",
       "</g>\r\n",
       "<!-- 5 -->\r\n",
       "<g id=\"node6\" class=\"node\"><title>5</title>\r\n",
       "<path fill=\"#399de5\" stroke=\"black\" d=\"M92,-179.5C92,-179.5 12,-179.5 12,-179.5 6,-179.5 0,-173.5 0,-167.5 0,-167.5 0,-123.5 0,-123.5 0,-117.5 6,-111.5 12,-111.5 12,-111.5 92,-111.5 92,-111.5 98,-111.5 104,-117.5 104,-123.5 104,-123.5 104,-167.5 104,-167.5 104,-173.5 98,-179.5 92,-179.5\"/>\r\n",
       "<text text-anchor=\"start\" x=\"23\" y=\"-164.3\" font-family=\"Helvetica,sans-Serif\" font-size=\"14.00\">gini = 0.0</text>\r\n",
       "<text text-anchor=\"start\" x=\"12.5\" y=\"-149.3\" font-family=\"Helvetica,sans-Serif\" font-size=\"14.00\">samples = 1</text>\r\n",
       "<text text-anchor=\"start\" x=\"11.5\" y=\"-134.3\" font-family=\"Helvetica,sans-Serif\" font-size=\"14.00\">value = [0, 1]</text>\r\n",
       "<text text-anchor=\"start\" x=\"8\" y=\"-119.3\" font-family=\"Helvetica,sans-Serif\" font-size=\"14.00\">class = label1</text>\r\n",
       "</g>\r\n",
       "<!-- 4&#45;&gt;5 -->\r\n",
       "<g id=\"edge5\" class=\"edge\"><title>4&#45;&gt;5</title>\r\n",
       "<path fill=\"none\" stroke=\"black\" d=\"M131.673,-222.907C119.476,-211.211 106.178,-198.457 94.0011,-186.78\"/>\r\n",
       "<polygon fill=\"black\" stroke=\"black\" points=\"96.2244,-184.062 86.5843,-179.667 91.3792,-189.115 96.2244,-184.062\"/>\r\n",
       "</g>\r\n",
       "<!-- 6 -->\r\n",
       "<g id=\"node7\" class=\"node\"><title>6</title>\r\n",
       "<path fill=\"#e58139\" stroke=\"black\" d=\"M214,-179.5C214,-179.5 134,-179.5 134,-179.5 128,-179.5 122,-173.5 122,-167.5 122,-167.5 122,-123.5 122,-123.5 122,-117.5 128,-111.5 134,-111.5 134,-111.5 214,-111.5 214,-111.5 220,-111.5 226,-117.5 226,-123.5 226,-123.5 226,-167.5 226,-167.5 226,-173.5 220,-179.5 214,-179.5\"/>\r\n",
       "<text text-anchor=\"start\" x=\"145\" y=\"-164.3\" font-family=\"Helvetica,sans-Serif\" font-size=\"14.00\">gini = 0.0</text>\r\n",
       "<text text-anchor=\"start\" x=\"134.5\" y=\"-149.3\" font-family=\"Helvetica,sans-Serif\" font-size=\"14.00\">samples = 4</text>\r\n",
       "<text text-anchor=\"start\" x=\"133.5\" y=\"-134.3\" font-family=\"Helvetica,sans-Serif\" font-size=\"14.00\">value = [4, 0]</text>\r\n",
       "<text text-anchor=\"start\" x=\"130\" y=\"-119.3\" font-family=\"Helvetica,sans-Serif\" font-size=\"14.00\">class = label0</text>\r\n",
       "</g>\r\n",
       "<!-- 4&#45;&gt;6 -->\r\n",
       "<g id=\"edge6\" class=\"edge\"><title>4&#45;&gt;6</title>\r\n",
       "<path fill=\"none\" stroke=\"black\" d=\"M174,-222.907C174,-212.204 174,-200.615 174,-189.776\"/>\r\n",
       "<polygon fill=\"black\" stroke=\"black\" points=\"177.5,-189.667 174,-179.667 170.5,-189.667 177.5,-189.667\"/>\r\n",
       "</g>\r\n",
       "<!-- 8 -->\r\n",
       "<g id=\"node9\" class=\"node\"><title>8</title>\r\n",
       "<path fill=\"#399de5\" stroke=\"black\" d=\"M336,-179.5C336,-179.5 256,-179.5 256,-179.5 250,-179.5 244,-173.5 244,-167.5 244,-167.5 244,-123.5 244,-123.5 244,-117.5 250,-111.5 256,-111.5 256,-111.5 336,-111.5 336,-111.5 342,-111.5 348,-117.5 348,-123.5 348,-123.5 348,-167.5 348,-167.5 348,-173.5 342,-179.5 336,-179.5\"/>\r\n",
       "<text text-anchor=\"start\" x=\"267\" y=\"-164.3\" font-family=\"Helvetica,sans-Serif\" font-size=\"14.00\">gini = 0.0</text>\r\n",
       "<text text-anchor=\"start\" x=\"256.5\" y=\"-149.3\" font-family=\"Helvetica,sans-Serif\" font-size=\"14.00\">samples = 6</text>\r\n",
       "<text text-anchor=\"start\" x=\"255.5\" y=\"-134.3\" font-family=\"Helvetica,sans-Serif\" font-size=\"14.00\">value = [0, 6]</text>\r\n",
       "<text text-anchor=\"start\" x=\"252\" y=\"-119.3\" font-family=\"Helvetica,sans-Serif\" font-size=\"14.00\">class = label1</text>\r\n",
       "</g>\r\n",
       "<!-- 7&#45;&gt;8 -->\r\n",
       "<g id=\"edge8\" class=\"edge\"><title>7&#45;&gt;8</title>\r\n",
       "<path fill=\"none\" stroke=\"black\" d=\"M296,-222.907C296,-212.204 296,-200.615 296,-189.776\"/>\r\n",
       "<polygon fill=\"black\" stroke=\"black\" points=\"299.5,-189.667 296,-179.667 292.5,-189.667 299.5,-189.667\"/>\r\n",
       "</g>\r\n",
       "<!-- 9 -->\r\n",
       "<g id=\"node10\" class=\"node\"><title>9</title>\r\n",
       "<path fill=\"#399de5\" fill-opacity=\"0.666667\" stroke=\"black\" d=\"M458,-187C458,-187 378,-187 378,-187 372,-187 366,-181 366,-175 366,-175 366,-116 366,-116 366,-110 372,-104 378,-104 378,-104 458,-104 458,-104 464,-104 470,-110 470,-116 470,-116 470,-175 470,-175 470,-181 464,-187 458,-187\"/>\r\n",
       "<text text-anchor=\"start\" x=\"384.5\" y=\"-171.8\" font-family=\"Helvetica,sans-Serif\" font-size=\"14.00\">y ≤ 7.6453</text>\r\n",
       "<text text-anchor=\"start\" x=\"380.5\" y=\"-156.8\" font-family=\"Helvetica,sans-Serif\" font-size=\"14.00\">gini = 0.375</text>\r\n",
       "<text text-anchor=\"start\" x=\"378.5\" y=\"-141.8\" font-family=\"Helvetica,sans-Serif\" font-size=\"14.00\">samples = 4</text>\r\n",
       "<text text-anchor=\"start\" x=\"377.5\" y=\"-126.8\" font-family=\"Helvetica,sans-Serif\" font-size=\"14.00\">value = [1, 3]</text>\r\n",
       "<text text-anchor=\"start\" x=\"374\" y=\"-111.8\" font-family=\"Helvetica,sans-Serif\" font-size=\"14.00\">class = label1</text>\r\n",
       "</g>\r\n",
       "<!-- 7&#45;&gt;9 -->\r\n",
       "<g id=\"edge9\" class=\"edge\"><title>7&#45;&gt;9</title>\r\n",
       "<path fill=\"none\" stroke=\"black\" d=\"M338.327,-222.907C347.979,-213.651 358.322,-203.732 368.252,-194.209\"/>\r\n",
       "<polygon fill=\"black\" stroke=\"black\" points=\"370.953,-196.469 375.748,-187.021 366.108,-191.416 370.953,-196.469\"/>\r\n",
       "</g>\r\n",
       "<!-- 10 -->\r\n",
       "<g id=\"node11\" class=\"node\"><title>10</title>\r\n",
       "<path fill=\"#e58139\" stroke=\"black\" d=\"M397,-68C397,-68 317,-68 317,-68 311,-68 305,-62 305,-56 305,-56 305,-12 305,-12 305,-6 311,-0 317,-0 317,-0 397,-0 397,-0 403,-0 409,-6 409,-12 409,-12 409,-56 409,-56 409,-62 403,-68 397,-68\"/>\r\n",
       "<text text-anchor=\"start\" x=\"328\" y=\"-52.8\" font-family=\"Helvetica,sans-Serif\" font-size=\"14.00\">gini = 0.0</text>\r\n",
       "<text text-anchor=\"start\" x=\"317.5\" y=\"-37.8\" font-family=\"Helvetica,sans-Serif\" font-size=\"14.00\">samples = 1</text>\r\n",
       "<text text-anchor=\"start\" x=\"316.5\" y=\"-22.8\" font-family=\"Helvetica,sans-Serif\" font-size=\"14.00\">value = [1, 0]</text>\r\n",
       "<text text-anchor=\"start\" x=\"313\" y=\"-7.8\" font-family=\"Helvetica,sans-Serif\" font-size=\"14.00\">class = label0</text>\r\n",
       "</g>\r\n",
       "<!-- 9&#45;&gt;10 -->\r\n",
       "<g id=\"edge10\" class=\"edge\"><title>9&#45;&gt;10</title>\r\n",
       "<path fill=\"none\" stroke=\"black\" d=\"M395.286,-103.726C390.459,-95.0615 385.353,-85.8962 380.498,-77.1802\"/>\r\n",
       "<polygon fill=\"black\" stroke=\"black\" points=\"383.475,-75.3322 375.55,-68.2996 377.36,-78.7389 383.475,-75.3322\"/>\r\n",
       "</g>\r\n",
       "<!-- 11 -->\r\n",
       "<g id=\"node12\" class=\"node\"><title>11</title>\r\n",
       "<path fill=\"#399de5\" stroke=\"black\" d=\"M519,-68C519,-68 439,-68 439,-68 433,-68 427,-62 427,-56 427,-56 427,-12 427,-12 427,-6 433,-0 439,-0 439,-0 519,-0 519,-0 525,-0 531,-6 531,-12 531,-12 531,-56 531,-56 531,-62 525,-68 519,-68\"/>\r\n",
       "<text text-anchor=\"start\" x=\"450\" y=\"-52.8\" font-family=\"Helvetica,sans-Serif\" font-size=\"14.00\">gini = 0.0</text>\r\n",
       "<text text-anchor=\"start\" x=\"439.5\" y=\"-37.8\" font-family=\"Helvetica,sans-Serif\" font-size=\"14.00\">samples = 3</text>\r\n",
       "<text text-anchor=\"start\" x=\"438.5\" y=\"-22.8\" font-family=\"Helvetica,sans-Serif\" font-size=\"14.00\">value = [0, 3]</text>\r\n",
       "<text text-anchor=\"start\" x=\"435\" y=\"-7.8\" font-family=\"Helvetica,sans-Serif\" font-size=\"14.00\">class = label1</text>\r\n",
       "</g>\r\n",
       "<!-- 9&#45;&gt;11 -->\r\n",
       "<g id=\"edge11\" class=\"edge\"><title>9&#45;&gt;11</title>\r\n",
       "<path fill=\"none\" stroke=\"black\" d=\"M440.714,-103.726C445.541,-95.0615 450.647,-85.8962 455.502,-77.1802\"/>\r\n",
       "<polygon fill=\"black\" stroke=\"black\" points=\"458.64,-78.7389 460.45,-68.2996 452.525,-75.3322 458.64,-78.7389\"/>\r\n",
       "</g>\r\n",
       "</g>\r\n",
       "</svg>\r\n"
      ],
      "text/plain": [
       "<graphviz.files.Source at 0x1ff79a13cc0>"
      ]
     },
     "execution_count": 10,
     "metadata": {},
     "output_type": "execute_result"
    }
   ],
   "source": [
    "graph"
   ]
  },
  {
   "cell_type": "code",
   "execution_count": 11,
   "metadata": {},
   "outputs": [
    {
     "data": {
      "image/png": "[encoded data removed]",
      "text/plain": [
       "<matplotlib.figure.Figure at 0x1ff7cb5cba8>"
      ]
     },
     "metadata": {},
     "output_type": "display_data"
    }
   ],
   "source": [
    "# 获取数据值所在的范围\n",
    "x_min, x_max = x_data[:, 0].min() - 1, x_data[:, 0].max() + 1\n",
    "y_min, y_max = x_data[:, 1].min() - 1, x_data[:, 1].max() + 1\n",
    "\n",
    "# 生成网格矩阵\n",
    "xx, yy = np.meshgrid(np.arange(x_min, x_max, 0.02),\n",
    "                     np.arange(y_min, y_max, 0.02))\n",
    "\n",
    "z = model.predict(np.c_[xx.ravel(), yy.ravel()])# ravel与flatten类似，多维数据转一维。flatten不会改变原始数据，ravel会改变原始数据\n",
    "z = z.reshape(xx.shape)\n",
    "# 等高线图\n",
    "cs = plt.contourf(xx, yy, z)\n",
    "# 样本散点图\n",
    "plt.scatter(x_data[:, 0], x_data[:, 1], c=y_data)\n",
    "plt.show()"
   ]
  },
  {
   "cell_type": "code",
   "execution_count": 12,
   "metadata": {},
   "outputs": [
    {
     "name": "stdout",
     "output_type": "stream",
     "text": [
      "             precision    recall  f1-score   support\n",
      "\n",
      "        0.0       1.00      1.00      1.00        47\n",
      "        1.0       1.00      1.00      1.00        53\n",
      "\n",
      "avg / total       1.00      1.00      1.00       100\n",
      "\n"
     ]
    }
   ],
   "source": [
    "predictions = model.predict(x_data)\n",
    "print(classification_report(predictions,y_data))"
   ]
  },
  {
   "cell_type": "code",
   "execution_count": null,
   "metadata": {
    "collapsed": true
   },
   "outputs": [],
   "source": []
  }
 ],
 "metadata": {
  "anaconda-cloud": {},
  "kernelspec": {
   "display_name": "Python 3",
   "language": "python",
   "name": "python3"
  },
  "language_info": {
   "codemirror_mode": {
    "name": "ipython",
    "version": 3
   },
   "file_extension": ".py",
   "mimetype": "text/x-python",
   "name": "python",
   "nbconvert_exporter": "python",
   "pygments_lexer": "ipython3",
   "version": "3.6.5"
  }
 },
 "nbformat": 4,
 "nbformat_minor": 1
}
